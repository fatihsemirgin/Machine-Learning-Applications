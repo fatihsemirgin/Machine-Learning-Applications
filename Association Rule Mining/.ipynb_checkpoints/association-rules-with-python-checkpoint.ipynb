{
 "cells": [
  {
   "cell_type": "code",
   "execution_count": 1,
   "metadata": {},
   "outputs": [
    {
     "ename": "ModuleNotFoundError",
     "evalue": "No module named 'mlxtend'",
     "output_type": "error",
     "traceback": [
      "\u001b[1;31m---------------------------------------------------------------------------\u001b[0m",
      "\u001b[1;31mModuleNotFoundError\u001b[0m                       Traceback (most recent call last)",
      "Cell \u001b[1;32mIn[1], line 3\u001b[0m\n\u001b[0;32m      1\u001b[0m \u001b[38;5;28;01mimport\u001b[39;00m \u001b[38;5;21;01mpandas\u001b[39;00m \u001b[38;5;28;01mas\u001b[39;00m \u001b[38;5;21;01mpd\u001b[39;00m\n\u001b[0;32m      2\u001b[0m \u001b[38;5;28;01mimport\u001b[39;00m \u001b[38;5;21;01mnumpy\u001b[39;00m \u001b[38;5;28;01mas\u001b[39;00m \u001b[38;5;21;01mnp\u001b[39;00m\n\u001b[1;32m----> 3\u001b[0m \u001b[38;5;28;01mfrom\u001b[39;00m \u001b[38;5;21;01mmlxtend\u001b[39;00m\u001b[38;5;21;01m.\u001b[39;00m\u001b[38;5;21;01mfrequent_patterns\u001b[39;00m \u001b[38;5;28;01mimport\u001b[39;00m apriori, association_rules\n",
      "\u001b[1;31mModuleNotFoundError\u001b[0m: No module named 'mlxtend'"
     ]
    }
   ],
   "source": [
    "!pip install mlxtend\n",
    "\n",
    "import pandas as pd\n",
    "import numpy as np\n",
    "from mlxtend.frequent_patterns import apriori, association_rules"
   ]
  },
  {
   "cell_type": "markdown",
   "metadata": {},
   "source": [
    "I have a dataset that I downloaded on https://www.kaggle.com/shazadudwadia/supermarket. Now, I import the dataset with the help of ‘pandas.read_csv’ and overview how it is structured.  "
   ]
  },
  {
   "cell_type": "code",
   "execution_count": null,
   "metadata": {},
   "outputs": [],
   "source": [
    "df = pd.read_csv('GroceryStoreDataSet.csv', names = ['products'], sep = ',')\n",
    "df.head()"
   ]
  },
  {
   "cell_type": "markdown",
   "metadata": {},
   "source": [
    "Let's examine the shape of the data set,"
   ]
  },
  {
   "cell_type": "code",
   "execution_count": null,
   "metadata": {},
   "outputs": [],
   "source": [
    "df.shape"
   ]
  },
  {
   "cell_type": "markdown",
   "metadata": {},
   "source": [
    "Let's split the products and create a list called by 'data',"
   ]
  },
  {
   "cell_type": "code",
   "execution_count": null,
   "metadata": {
    "_cell_guid": "79c7e3d0-c299-4dcb-8224-4455121ee9b0",
    "_uuid": "d629ff2d2480ee46fbb7e2d37f6b5fab8052498a"
   },
   "outputs": [],
   "source": [
    "data = list(df[\"products\"].apply(lambda x:x.split(\",\") ))\n",
    "data"
   ]
  },
  {
   "cell_type": "markdown",
   "metadata": {},
   "source": [
    "**Apriori Algorithm and One-Hot Encoding**\n",
    " \n",
    "Apriori's algorithm transforms True/False or 1/0.  \n",
    "Using TransactionEncoder, we convert the list to a One-Hot Encoded Boolean list.  \n",
    "Products that customers bought or did not buy during shopping will now be represented by values 1 and 0.\n"
   ]
  },
  {
   "cell_type": "code",
   "execution_count": null,
   "metadata": {},
   "outputs": [],
   "source": [
    "#Let's transform the list, with one-hot encoding\n",
    "from mlxtend.preprocessing import TransactionEncoder\n",
    "a = TransactionEncoder()\n",
    "a_data = a.fit(data).transform(data)\n",
    "df = pd.DataFrame(a_data,columns=a.columns_)\n",
    "df = df.replace(False,0)\n",
    "df"
   ]
  },
  {
   "cell_type": "markdown",
   "metadata": {},
   "source": [
    "**Applying Apriori and Resulting**\n",
    "\n",
    "The next step is to create the Apriori Model. We can change all the parameters in the Apriori Model in the mlxtend package.   \n",
    "I will try to use minimum support parameters for this modeling.    \n",
    "For this, I set a min_support value with a threshold value of 20% and printed them on the screen as well.\n",
    " "
   ]
  },
  {
   "cell_type": "code",
   "execution_count": null,
   "metadata": {},
   "outputs": [],
   "source": [
    "#set a threshold value for the support value and calculate the support value.\n",
    "df = apriori(df, min_support = 0.2, use_colnames = True, verbose = 1)\n",
    "df"
   ]
  },
  {
   "cell_type": "markdown",
   "metadata": {},
   "source": [
    "I chose the 60% minimum confidence value.\n",
    "In other words, when product X is purchased, we can say that the purchase of product Y is 60% or more."
   ]
  },
  {
   "cell_type": "code",
   "execution_count": null,
   "metadata": {},
   "outputs": [],
   "source": [
    "#Let's view our interpretation values using the Associan rule function.\n",
    "df_ar = association_rules(df, metric = \"confidence\", min_threshold = 0.6)\n",
    "df_ar\n"
   ]
  },
  {
   "cell_type": "markdown",
   "metadata": {},
   "source": [
    "For example, if we examine our 1st index value;\n",
    "* The probability of seeing sugar sales is seen as 30%.\n",
    "* Bread intake is seen as 65%.\n",
    "* We can say that the support of both of them is measured as 20%.\n",
    "* 67% of those who buys sugar, buys bread as well.\n",
    "* Users who buy sugar will likely consume 3% more bread than users who don't buy sugar.\n",
    "* Their correlation with each other is seen as 1.05.\n",
    " \n",
    "\n",
    "As a result, if item X and Y are bought together more frequently, then several steps can be taken to increase the profit. For instance:\n",
    " \n",
    "* \tCross-Selling can be improved by combining products - items\n",
    "* \tThe shop layout can be changed so that sales can be improved when certain items are kept together. \n",
    "* \tPromotional activities which are an advertising campaign can be carried out to increase the sales of goods that customers do not buy.\n",
    "* \tCollective discounts can be offered on these products if the customer buys both of them.\n",
    " \n",
    " \n",
    " \n",
    " \n"
   ]
  },
  {
   "cell_type": "markdown",
   "metadata": {},
   "source": [
    "References \n",
    "\n",
    "https://en.wikipedia.org/wiki/Association_rule_learning  \n",
    "https://blogs.oracle.com/datascience/overview-of-traditional-machine-learning-techniques\n",
    "https://stackabuse.com/association-rule-mining-via-apriori-algorithm-in-python/  \n",
    "https://www.datasciencecentral.com/profiles/blogs/data-mining-association-rules-in-r-diapers-and-beer  \n",
    "https://pyshark.com/market-basket-analysis-using-association-rule-mining-in-python/  \n",
    "https://www.veribilimiokulu.com/python-ile-birliktelik-kurallari-analizi-association-rules-analysis-with-python/  \n",
    "https://www.mygreatlearning.com/blog/apriori-algorithm-explained/  \n",
    "https://machinelearningmastery.com/how-to-one-hot-encode-sequence-data-in-python/  \n",
    "            \n",
    "            "
   ]
  }
 ],
 "metadata": {
  "kernelspec": {
   "display_name": "Python 3 (ipykernel)",
   "language": "python",
   "name": "python3"
  },
  "language_info": {
   "codemirror_mode": {
    "name": "ipython",
    "version": 3
   },
   "file_extension": ".py",
   "mimetype": "text/x-python",
   "name": "python",
   "nbconvert_exporter": "python",
   "pygments_lexer": "ipython3",
   "version": "3.8.6"
  }
 },
 "nbformat": 4,
 "nbformat_minor": 4
}
