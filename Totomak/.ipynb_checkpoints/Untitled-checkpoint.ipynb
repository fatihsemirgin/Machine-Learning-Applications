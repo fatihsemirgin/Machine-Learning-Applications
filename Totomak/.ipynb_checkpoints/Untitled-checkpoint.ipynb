{
 "cells": [
  {
   "cell_type": "code",
   "execution_count": 1,
   "id": "585f65de-5e54-4b1f-8f00-0b2ae68044b0",
   "metadata": {},
   "outputs": [
    {
     "name": "stdout",
     "output_type": "stream",
     "text": [
      "Requirement already satisfied: seaborn in c:\\python38\\lib\\site-packages (0.12.2)\n",
      "Requirement already satisfied: matplotlib!=3.6.1,>=3.1 in c:\\python38\\lib\\site-packages (from seaborn) (3.7.2)\n",
      "Requirement already satisfied: pandas>=0.25 in c:\\python38\\lib\\site-packages (from seaborn) (2.0.3)\n",
      "Requirement already satisfied: numpy!=1.24.0,>=1.17 in c:\\python38\\lib\\site-packages (from seaborn) (1.24.3)\n",
      "Requirement already satisfied: python-dateutil>=2.7 in c:\\python38\\lib\\site-packages (from matplotlib!=3.6.1,>=3.1->seaborn) (2.8.2)\n",
      "Requirement already satisfied: importlib-resources>=3.2.0 in c:\\python38\\lib\\site-packages (from matplotlib!=3.6.1,>=3.1->seaborn) (6.0.0)\n",
      "Requirement already satisfied: fonttools>=4.22.0 in c:\\python38\\lib\\site-packages (from matplotlib!=3.6.1,>=3.1->seaborn) (4.41.0)\n",
      "Requirement already satisfied: kiwisolver>=1.0.1 in c:\\python38\\lib\\site-packages (from matplotlib!=3.6.1,>=3.1->seaborn) (1.4.4)\n",
      "Requirement already satisfied: contourpy>=1.0.1 in c:\\python38\\lib\\site-packages (from matplotlib!=3.6.1,>=3.1->seaborn) (1.1.0)\n",
      "Requirement already satisfied: pillow>=6.2.0 in c:\\python38\\lib\\site-packages (from matplotlib!=3.6.1,>=3.1->seaborn) (10.0.0)\n",
      "Requirement already satisfied: packaging>=20.0 in c:\\python38\\lib\\site-packages (from matplotlib!=3.6.1,>=3.1->seaborn) (23.1)\n",
      "Requirement already satisfied: pyparsing<3.1,>=2.3.1 in c:\\python38\\lib\\site-packages (from matplotlib!=3.6.1,>=3.1->seaborn) (3.0.9)\n",
      "Requirement already satisfied: cycler>=0.10 in c:\\python38\\lib\\site-packages (from matplotlib!=3.6.1,>=3.1->seaborn) (0.11.0)\n",
      "Requirement already satisfied: tzdata>=2022.1 in c:\\python38\\lib\\site-packages (from pandas>=0.25->seaborn) (2023.3)\n",
      "Requirement already satisfied: pytz>=2020.1 in c:\\python38\\lib\\site-packages (from pandas>=0.25->seaborn) (2023.3)\n",
      "Requirement already satisfied: zipp>=3.1.0 in c:\\python38\\lib\\site-packages (from importlib-resources>=3.2.0->matplotlib!=3.6.1,>=3.1->seaborn) (3.16.2)\n",
      "Requirement already satisfied: six>=1.5 in c:\\python38\\lib\\site-packages (from python-dateutil>=2.7->matplotlib!=3.6.1,>=3.1->seaborn) (1.16.0)\n"
     ]
    },
    {
     "name": "stderr",
     "output_type": "stream",
     "text": [
      "WARNING: There was an error checking the latest version of pip.\n"
     ]
    },
    {
     "name": "stdout",
     "output_type": "stream",
     "text": [
      "Requirement already satisfied: openpyxl in c:\\python38\\lib\\site-packages (3.1.2)\n",
      "Requirement already satisfied: et-xmlfile in c:\\python38\\lib\\site-packages (from openpyxl) (1.1.0)\n"
     ]
    },
    {
     "name": "stderr",
     "output_type": "stream",
     "text": [
      "WARNING: There was an error checking the latest version of pip.\n"
     ]
    },
    {
     "name": "stdout",
     "output_type": "stream",
     "text": [
      "Requirement already satisfied: pandas in c:\\python38\\lib\\site-packages (2.0.3)\n",
      "Requirement already satisfied: python-dateutil>=2.8.2 in c:\\python38\\lib\\site-packages (from pandas) (2.8.2)\n",
      "Requirement already satisfied: pytz>=2020.1 in c:\\python38\\lib\\site-packages (from pandas) (2023.3)\n",
      "Requirement already satisfied: tzdata>=2022.1 in c:\\python38\\lib\\site-packages (from pandas) (2023.3)\n",
      "Requirement already satisfied: numpy>=1.20.3 in c:\\python38\\lib\\site-packages (from pandas) (1.24.3)\n",
      "Requirement already satisfied: six>=1.5 in c:\\python38\\lib\\site-packages (from python-dateutil>=2.8.2->pandas) (1.16.0)\n"
     ]
    },
    {
     "name": "stderr",
     "output_type": "stream",
     "text": [
      "WARNING: There was an error checking the latest version of pip.\n"
     ]
    },
    {
     "data": {
      "text/html": [
       "<div>\n",
       "<style scoped>\n",
       "    .dataframe tbody tr th:only-of-type {\n",
       "        vertical-align: middle;\n",
       "    }\n",
       "\n",
       "    .dataframe tbody tr th {\n",
       "        vertical-align: top;\n",
       "    }\n",
       "\n",
       "    .dataframe thead th {\n",
       "        text-align: right;\n",
       "    }\n",
       "</style>\n",
       "<table border=\"1\" class=\"dataframe\">\n",
       "  <thead>\n",
       "    <tr style=\"text-align: right;\">\n",
       "      <th></th>\n",
       "      <th>Makina Adı</th>\n",
       "      <th>Stok Kodu</th>\n",
       "      <th>Başlangıç Tarih</th>\n",
       "      <th>Bitiş Tarih</th>\n",
       "      <th>Personel</th>\n",
       "      <th>Arıza Grup 1</th>\n",
       "      <th>Arıza Grup 2</th>\n",
       "      <th>Arıza Grup 3</th>\n",
       "      <th>Çalışma Süresi(Dk) Toplam</th>\n",
       "    </tr>\n",
       "  </thead>\n",
       "  <tbody>\n",
       "    <tr>\n",
       "      <th>0</th>\n",
       "      <td>(C 02) MAZAK QT-28N (TORNA)</td>\n",
       "      <td>001-0827-00000000030</td>\n",
       "      <td>12.01.2018 03:52</td>\n",
       "      <td>12.01.2018 03:59</td>\n",
       "      <td>ALI RIZA EREN</td>\n",
       "      <td>(04) ARIZA</td>\n",
       "      <td>(4.7) BAKIMCI BEKLEME</td>\n",
       "      <td>NaN</td>\n",
       "      <td>7</td>\n",
       "    </tr>\n",
       "    <tr>\n",
       "      <th>1</th>\n",
       "      <td>(C 02) MAZAK QT-28N (TORNA)</td>\n",
       "      <td>001-0827-00000000030</td>\n",
       "      <td>12.01.2018 04:00</td>\n",
       "      <td>12.01.2018 04:02</td>\n",
       "      <td>ALI RIZA EREN</td>\n",
       "      <td>(04) ARIZA</td>\n",
       "      <td>(4.7) BAKIMCI BEKLEME</td>\n",
       "      <td>NaN</td>\n",
       "      <td>2</td>\n",
       "    </tr>\n",
       "    <tr>\n",
       "      <th>2</th>\n",
       "      <td>(C 02) MAZAK QT-28N (TORNA)</td>\n",
       "      <td>001-0827-00000000030</td>\n",
       "      <td>12.01.2018 04:02</td>\n",
       "      <td>12.01.2018 04:22</td>\n",
       "      <td>GÖKHAN GÖK</td>\n",
       "      <td>(04) ARIZA</td>\n",
       "      <td>(4.2) MEKANIK ARIZA</td>\n",
       "      <td>(4.2.3) KAYIS, KAPLIN, REDÜKTÖR, KASNAK</td>\n",
       "      <td>20</td>\n",
       "    </tr>\n",
       "    <tr>\n",
       "      <th>3</th>\n",
       "      <td>(C 02) MAZAK QT-28N (TORNA)</td>\n",
       "      <td>001-0827-00000000030</td>\n",
       "      <td>05.02.2018 23:40</td>\n",
       "      <td>05.02.2018 23:57</td>\n",
       "      <td>ALI RIZA EREN</td>\n",
       "      <td>(04) ARIZA</td>\n",
       "      <td>(4.7) BAKIMCI BEKLEME</td>\n",
       "      <td>NaN</td>\n",
       "      <td>17</td>\n",
       "    </tr>\n",
       "    <tr>\n",
       "      <th>4</th>\n",
       "      <td>(C 02) MAZAK QT-28N (TORNA)</td>\n",
       "      <td>001-0827-00000000030</td>\n",
       "      <td>30.03.2018 14:22</td>\n",
       "      <td>30.03.2018 14:33</td>\n",
       "      <td>ALI RIZA EREN</td>\n",
       "      <td>(04) ARIZA</td>\n",
       "      <td>(4.7) BAKIMCI BEKLEME</td>\n",
       "      <td>NaN</td>\n",
       "      <td>11</td>\n",
       "    </tr>\n",
       "    <tr>\n",
       "      <th>...</th>\n",
       "      <td>...</td>\n",
       "      <td>...</td>\n",
       "      <td>...</td>\n",
       "      <td>...</td>\n",
       "      <td>...</td>\n",
       "      <td>...</td>\n",
       "      <td>...</td>\n",
       "      <td>...</td>\n",
       "      <td>...</td>\n",
       "    </tr>\n",
       "    <tr>\n",
       "      <th>24585</th>\n",
       "      <td>(U105(4)) DATSON DERIN DELME 8x500 (GUNDRILL)</td>\n",
       "      <td>007-0344-00000000061</td>\n",
       "      <td>29.03.2018 08:00</td>\n",
       "      <td>29.03.2018 08:36</td>\n",
       "      <td>GÜRCAN UĞUZHAN</td>\n",
       "      <td>(04) ARIZA</td>\n",
       "      <td>(4.7) BAKIMCI BEKLEME</td>\n",
       "      <td>NaN</td>\n",
       "      <td>36</td>\n",
       "    </tr>\n",
       "    <tr>\n",
       "      <th>24586</th>\n",
       "      <td>(U105(4)) DATSON DERIN DELME 8x500 (GUNDRILL)</td>\n",
       "      <td>007-0344-00000000061</td>\n",
       "      <td>29.03.2018 08:36</td>\n",
       "      <td>29.03.2018 09:49</td>\n",
       "      <td>ARİF TARIM</td>\n",
       "      <td>(04) ARIZA</td>\n",
       "      <td>(4.1) ELEKTRIK ARIZA</td>\n",
       "      <td>(4.1.4) SWITCH, SENSOR, PROB</td>\n",
       "      <td>73</td>\n",
       "    </tr>\n",
       "    <tr>\n",
       "      <th>24587</th>\n",
       "      <td>(U105(4)) DATSON DERIN DELME 8x500 (GUNDRILL)</td>\n",
       "      <td>007-0344-00000000061 Toplam</td>\n",
       "      <td>NaN</td>\n",
       "      <td>NaN</td>\n",
       "      <td>NaN</td>\n",
       "      <td>NaN</td>\n",
       "      <td>NaN</td>\n",
       "      <td>NaN</td>\n",
       "      <td>273</td>\n",
       "    </tr>\n",
       "    <tr>\n",
       "      <th>24588</th>\n",
       "      <td>(U105(4)) DATSON DERIN DELME 8x500 (GUNDRILL) ...</td>\n",
       "      <td>NaN</td>\n",
       "      <td>NaN</td>\n",
       "      <td>NaN</td>\n",
       "      <td>NaN</td>\n",
       "      <td>NaN</td>\n",
       "      <td>NaN</td>\n",
       "      <td>NaN</td>\n",
       "      <td>1335</td>\n",
       "    </tr>\n",
       "    <tr>\n",
       "      <th>24589</th>\n",
       "      <td>Genel Toplam</td>\n",
       "      <td>NaN</td>\n",
       "      <td>NaN</td>\n",
       "      <td>NaN</td>\n",
       "      <td>NaN</td>\n",
       "      <td>NaN</td>\n",
       "      <td>NaN</td>\n",
       "      <td>NaN</td>\n",
       "      <td>1226748</td>\n",
       "    </tr>\n",
       "  </tbody>\n",
       "</table>\n",
       "<p>24590 rows × 9 columns</p>\n",
       "</div>"
      ],
      "text/plain": [
       "                                              Makina Adı  \\\n",
       "0                            (C 02) MAZAK QT-28N (TORNA)   \n",
       "1                            (C 02) MAZAK QT-28N (TORNA)   \n",
       "2                            (C 02) MAZAK QT-28N (TORNA)   \n",
       "3                            (C 02) MAZAK QT-28N (TORNA)   \n",
       "4                            (C 02) MAZAK QT-28N (TORNA)   \n",
       "...                                                  ...   \n",
       "24585      (U105(4)) DATSON DERIN DELME 8x500 (GUNDRILL)   \n",
       "24586      (U105(4)) DATSON DERIN DELME 8x500 (GUNDRILL)   \n",
       "24587      (U105(4)) DATSON DERIN DELME 8x500 (GUNDRILL)   \n",
       "24588  (U105(4)) DATSON DERIN DELME 8x500 (GUNDRILL) ...   \n",
       "24589                                       Genel Toplam   \n",
       "\n",
       "                         Stok Kodu   Başlangıç Tarih       Bitiş Tarih  \\\n",
       "0             001-0827-00000000030  12.01.2018 03:52  12.01.2018 03:59   \n",
       "1             001-0827-00000000030  12.01.2018 04:00  12.01.2018 04:02   \n",
       "2             001-0827-00000000030  12.01.2018 04:02  12.01.2018 04:22   \n",
       "3             001-0827-00000000030  05.02.2018 23:40  05.02.2018 23:57   \n",
       "4             001-0827-00000000030  30.03.2018 14:22  30.03.2018 14:33   \n",
       "...                            ...               ...               ...   \n",
       "24585         007-0344-00000000061  29.03.2018 08:00  29.03.2018 08:36   \n",
       "24586         007-0344-00000000061  29.03.2018 08:36  29.03.2018 09:49   \n",
       "24587  007-0344-00000000061 Toplam               NaN               NaN   \n",
       "24588                          NaN               NaN               NaN   \n",
       "24589                          NaN               NaN               NaN   \n",
       "\n",
       "             Personel Arıza Grup 1           Arıza Grup 2  \\\n",
       "0       ALI RIZA EREN   (04) ARIZA  (4.7) BAKIMCI BEKLEME   \n",
       "1       ALI RIZA EREN   (04) ARIZA  (4.7) BAKIMCI BEKLEME   \n",
       "2          GÖKHAN GÖK   (04) ARIZA    (4.2) MEKANIK ARIZA   \n",
       "3       ALI RIZA EREN   (04) ARIZA  (4.7) BAKIMCI BEKLEME   \n",
       "4       ALI RIZA EREN   (04) ARIZA  (4.7) BAKIMCI BEKLEME   \n",
       "...               ...          ...                    ...   \n",
       "24585  GÜRCAN UĞUZHAN   (04) ARIZA  (4.7) BAKIMCI BEKLEME   \n",
       "24586      ARİF TARIM   (04) ARIZA   (4.1) ELEKTRIK ARIZA   \n",
       "24587             NaN          NaN                    NaN   \n",
       "24588             NaN          NaN                    NaN   \n",
       "24589             NaN          NaN                    NaN   \n",
       "\n",
       "                                  Arıza Grup 3  Çalışma Süresi(Dk) Toplam  \n",
       "0                                          NaN                          7  \n",
       "1                                          NaN                          2  \n",
       "2      (4.2.3) KAYIS, KAPLIN, REDÜKTÖR, KASNAK                         20  \n",
       "3                                          NaN                         17  \n",
       "4                                          NaN                         11  \n",
       "...                                        ...                        ...  \n",
       "24585                                      NaN                         36  \n",
       "24586             (4.1.4) SWITCH, SENSOR, PROB                         73  \n",
       "24587                                      NaN                        273  \n",
       "24588                                      NaN                       1335  \n",
       "24589                                      NaN                    1226748  \n",
       "\n",
       "[24590 rows x 9 columns]"
      ]
     },
     "execution_count": 1,
     "metadata": {},
     "output_type": "execute_result"
    }
   ],
   "source": [
    "!pip install seaborn\n",
    "!pip install openpyxl\n",
    "import seaborn as sns\n",
    "!pip install pandas\n",
    "import pandas as pd\n",
    "\n",
    "# CSV dosyasını okuyarak veri kümenizi oluşturun\n",
    "dataset_path = 'Bakım _Duruşları_2018.xlsx'\n",
    "data = pd.read_excel(dataset_path)\n",
    "df = data.copy()\n",
    "df"
   ]
  },
  {
   "cell_type": "code",
   "execution_count": 2,
   "id": "312e692e-866a-41e3-a83a-c8877fbc918d",
   "metadata": {},
   "outputs": [
    {
     "data": {
      "text/plain": [
       "Index(['Makina Adı', 'Stok Kodu', 'Başlangıç Tarih', 'Bitiş Tarih', 'Personel',\n",
       "       'Arıza Grup 1', 'Arıza Grup 2', 'Arıza Grup 3',\n",
       "       'Çalışma Süresi(Dk) Toplam'],\n",
       "      dtype='object')"
      ]
     },
     "execution_count": 2,
     "metadata": {},
     "output_type": "execute_result"
    }
   ],
   "source": [
    "df.columns"
   ]
  },
  {
   "cell_type": "code",
   "execution_count": 3,
   "id": "29df76e6-7ab2-48df-b935-cd9930053165",
   "metadata": {},
   "outputs": [
    {
     "data": {
      "text/html": [
       "<div>\n",
       "<style scoped>\n",
       "    .dataframe tbody tr th:only-of-type {\n",
       "        vertical-align: middle;\n",
       "    }\n",
       "\n",
       "    .dataframe tbody tr th {\n",
       "        vertical-align: top;\n",
       "    }\n",
       "\n",
       "    .dataframe thead th {\n",
       "        text-align: right;\n",
       "    }\n",
       "</style>\n",
       "<table border=\"1\" class=\"dataframe\">\n",
       "  <thead>\n",
       "    <tr style=\"text-align: right;\">\n",
       "      <th></th>\n",
       "      <th>count</th>\n",
       "      <th>unique</th>\n",
       "      <th>top</th>\n",
       "      <th>freq</th>\n",
       "      <th>mean</th>\n",
       "      <th>std</th>\n",
       "      <th>min</th>\n",
       "      <th>25%</th>\n",
       "      <th>50%</th>\n",
       "      <th>75%</th>\n",
       "      <th>max</th>\n",
       "    </tr>\n",
       "  </thead>\n",
       "  <tbody>\n",
       "    <tr>\n",
       "      <th>Makina Adı</th>\n",
       "      <td>24590</td>\n",
       "      <td>234</td>\n",
       "      <td>(C 147) DMG  80 H (YİM)</td>\n",
       "      <td>2085</td>\n",
       "      <td>NaN</td>\n",
       "      <td>NaN</td>\n",
       "      <td>NaN</td>\n",
       "      <td>NaN</td>\n",
       "      <td>NaN</td>\n",
       "      <td>NaN</td>\n",
       "      <td>NaN</td>\n",
       "    </tr>\n",
       "    <tr>\n",
       "      <th>Stok Kodu</th>\n",
       "      <td>24476</td>\n",
       "      <td>1202</td>\n",
       "      <td>91221801050000000020</td>\n",
       "      <td>1279</td>\n",
       "      <td>NaN</td>\n",
       "      <td>NaN</td>\n",
       "      <td>NaN</td>\n",
       "      <td>NaN</td>\n",
       "      <td>NaN</td>\n",
       "      <td>NaN</td>\n",
       "      <td>NaN</td>\n",
       "    </tr>\n",
       "    <tr>\n",
       "      <th>Başlangıç Tarih</th>\n",
       "      <td>23619</td>\n",
       "      <td>14930</td>\n",
       "      <td>08.10.2018 20:00</td>\n",
       "      <td>64</td>\n",
       "      <td>NaN</td>\n",
       "      <td>NaN</td>\n",
       "      <td>NaN</td>\n",
       "      <td>NaN</td>\n",
       "      <td>NaN</td>\n",
       "      <td>NaN</td>\n",
       "      <td>NaN</td>\n",
       "    </tr>\n",
       "    <tr>\n",
       "      <th>Bitiş Tarih</th>\n",
       "      <td>23619</td>\n",
       "      <td>14928</td>\n",
       "      <td>08.10.2018 19:59</td>\n",
       "      <td>64</td>\n",
       "      <td>NaN</td>\n",
       "      <td>NaN</td>\n",
       "      <td>NaN</td>\n",
       "      <td>NaN</td>\n",
       "      <td>NaN</td>\n",
       "      <td>NaN</td>\n",
       "      <td>NaN</td>\n",
       "    </tr>\n",
       "    <tr>\n",
       "      <th>Personel</th>\n",
       "      <td>23619</td>\n",
       "      <td>275</td>\n",
       "      <td>ARİF TARIM</td>\n",
       "      <td>3058</td>\n",
       "      <td>NaN</td>\n",
       "      <td>NaN</td>\n",
       "      <td>NaN</td>\n",
       "      <td>NaN</td>\n",
       "      <td>NaN</td>\n",
       "      <td>NaN</td>\n",
       "      <td>NaN</td>\n",
       "    </tr>\n",
       "    <tr>\n",
       "      <th>Arıza Grup 1</th>\n",
       "      <td>23619</td>\n",
       "      <td>1</td>\n",
       "      <td>(04) ARIZA</td>\n",
       "      <td>23619</td>\n",
       "      <td>NaN</td>\n",
       "      <td>NaN</td>\n",
       "      <td>NaN</td>\n",
       "      <td>NaN</td>\n",
       "      <td>NaN</td>\n",
       "      <td>NaN</td>\n",
       "      <td>NaN</td>\n",
       "    </tr>\n",
       "    <tr>\n",
       "      <th>Arıza Grup 2</th>\n",
       "      <td>23619</td>\n",
       "      <td>10</td>\n",
       "      <td>(4.7) BAKIMCI BEKLEME</td>\n",
       "      <td>8014</td>\n",
       "      <td>NaN</td>\n",
       "      <td>NaN</td>\n",
       "      <td>NaN</td>\n",
       "      <td>NaN</td>\n",
       "      <td>NaN</td>\n",
       "      <td>NaN</td>\n",
       "      <td>NaN</td>\n",
       "    </tr>\n",
       "    <tr>\n",
       "      <th>Arıza Grup 3</th>\n",
       "      <td>15104</td>\n",
       "      <td>46</td>\n",
       "      <td>(4.10.1) TEZGAHA PARÇA BEKLENİYOR</td>\n",
       "      <td>3950</td>\n",
       "      <td>NaN</td>\n",
       "      <td>NaN</td>\n",
       "      <td>NaN</td>\n",
       "      <td>NaN</td>\n",
       "      <td>NaN</td>\n",
       "      <td>NaN</td>\n",
       "      <td>NaN</td>\n",
       "    </tr>\n",
       "    <tr>\n",
       "      <th>Çalışma Süresi(Dk) Toplam</th>\n",
       "      <td>24590.0</td>\n",
       "      <td>NaN</td>\n",
       "      <td>NaN</td>\n",
       "      <td>NaN</td>\n",
       "      <td>197.616511</td>\n",
       "      <td>7966.759185</td>\n",
       "      <td>1.0</td>\n",
       "      <td>10.0</td>\n",
       "      <td>38.0</td>\n",
       "      <td>59.0</td>\n",
       "      <td>1226748.0</td>\n",
       "    </tr>\n",
       "  </tbody>\n",
       "</table>\n",
       "</div>"
      ],
      "text/plain": [
       "                             count unique                                top  \\\n",
       "Makina Adı                   24590    234            (C 147) DMG  80 H (YİM)   \n",
       "Stok Kodu                    24476   1202               91221801050000000020   \n",
       "Başlangıç Tarih              23619  14930                   08.10.2018 20:00   \n",
       "Bitiş Tarih                  23619  14928                   08.10.2018 19:59   \n",
       "Personel                     23619    275                         ARİF TARIM   \n",
       "Arıza Grup 1                 23619      1                         (04) ARIZA   \n",
       "Arıza Grup 2                 23619     10              (4.7) BAKIMCI BEKLEME   \n",
       "Arıza Grup 3                 15104     46  (4.10.1) TEZGAHA PARÇA BEKLENİYOR   \n",
       "Çalışma Süresi(Dk) Toplam  24590.0    NaN                                NaN   \n",
       "\n",
       "                            freq        mean          std  min   25%   50%  \\\n",
       "Makina Adı                  2085         NaN          NaN  NaN   NaN   NaN   \n",
       "Stok Kodu                   1279         NaN          NaN  NaN   NaN   NaN   \n",
       "Başlangıç Tarih               64         NaN          NaN  NaN   NaN   NaN   \n",
       "Bitiş Tarih                   64         NaN          NaN  NaN   NaN   NaN   \n",
       "Personel                    3058         NaN          NaN  NaN   NaN   NaN   \n",
       "Arıza Grup 1               23619         NaN          NaN  NaN   NaN   NaN   \n",
       "Arıza Grup 2                8014         NaN          NaN  NaN   NaN   NaN   \n",
       "Arıza Grup 3                3950         NaN          NaN  NaN   NaN   NaN   \n",
       "Çalışma Süresi(Dk) Toplam    NaN  197.616511  7966.759185  1.0  10.0  38.0   \n",
       "\n",
       "                            75%        max  \n",
       "Makina Adı                  NaN        NaN  \n",
       "Stok Kodu                   NaN        NaN  \n",
       "Başlangıç Tarih             NaN        NaN  \n",
       "Bitiş Tarih                 NaN        NaN  \n",
       "Personel                    NaN        NaN  \n",
       "Arıza Grup 1                NaN        NaN  \n",
       "Arıza Grup 2                NaN        NaN  \n",
       "Arıza Grup 3                NaN        NaN  \n",
       "Çalışma Süresi(Dk) Toplam  59.0  1226748.0  "
      ]
     },
     "execution_count": 3,
     "metadata": {},
     "output_type": "execute_result"
    }
   ],
   "source": [
    "df.describe(include = \"all\").T"
   ]
  },
  {
   "cell_type": "code",
   "execution_count": 4,
   "id": "19320d53-b811-49d9-85f6-a9f026faf719",
   "metadata": {},
   "outputs": [
    {
     "data": {
      "text/html": [
       "<div>\n",
       "<style scoped>\n",
       "    .dataframe tbody tr th:only-of-type {\n",
       "        vertical-align: middle;\n",
       "    }\n",
       "\n",
       "    .dataframe tbody tr th {\n",
       "        vertical-align: top;\n",
       "    }\n",
       "\n",
       "    .dataframe thead th {\n",
       "        text-align: right;\n",
       "    }\n",
       "</style>\n",
       "<table border=\"1\" class=\"dataframe\">\n",
       "  <thead>\n",
       "    <tr style=\"text-align: right;\">\n",
       "      <th></th>\n",
       "      <th>Çalışma Süresi(Dk) Toplam</th>\n",
       "    </tr>\n",
       "  </thead>\n",
       "  <tbody>\n",
       "    <tr>\n",
       "      <th>0</th>\n",
       "      <td>7</td>\n",
       "    </tr>\n",
       "    <tr>\n",
       "      <th>1</th>\n",
       "      <td>2</td>\n",
       "    </tr>\n",
       "    <tr>\n",
       "      <th>2</th>\n",
       "      <td>20</td>\n",
       "    </tr>\n",
       "    <tr>\n",
       "      <th>3</th>\n",
       "      <td>17</td>\n",
       "    </tr>\n",
       "    <tr>\n",
       "      <th>4</th>\n",
       "      <td>11</td>\n",
       "    </tr>\n",
       "  </tbody>\n",
       "</table>\n",
       "</div>"
      ],
      "text/plain": [
       "   Çalışma Süresi(Dk) Toplam\n",
       "0                          7\n",
       "1                          2\n",
       "2                         20\n",
       "3                         17\n",
       "4                         11"
      ]
     },
     "execution_count": 4,
     "metadata": {},
     "output_type": "execute_result"
    }
   ],
   "source": [
    "df_num = df.select_dtypes(include=[\"float64\",\"int64\"])\n",
    "df_num.head()"
   ]
  },
  {
   "cell_type": "code",
   "execution_count": 5,
   "id": "e27d677d-9092-4cc6-8ca3-f7495ca4b52d",
   "metadata": {},
   "outputs": [
    {
     "data": {
      "text/plain": [
       "Makina Adı         object\n",
       "Stok Kodu          object\n",
       "Başlangıç Tarih    object\n",
       "Bitiş Tarih        object\n",
       "Personel           object\n",
       "Arıza Grup 1       object\n",
       "Arıza Grup 2       object\n",
       "Arıza Grup 3       object\n",
       "dtype: object"
      ]
     },
     "execution_count": 5,
     "metadata": {},
     "output_type": "execute_result"
    }
   ],
   "source": [
    "kat_df = df.select_dtypes(include = [\"object\"])\n",
    "kat_df.dtypes"
   ]
  },
  {
   "cell_type": "code",
   "execution_count": 6,
   "id": "6fa0daaf-a4a1-40a5-a6b2-cac76564a234",
   "metadata": {},
   "outputs": [
    {
     "data": {
      "text/plain": [
       "275"
      ]
     },
     "execution_count": 6,
     "metadata": {},
     "output_type": "execute_result"
    }
   ],
   "source": [
    "kat_df[\"Personel\"].value_counts().count()"
   ]
  },
  {
   "cell_type": "code",
   "execution_count": 7,
   "id": "fe9f0b9a-782c-4b4f-b22c-e71db8582f8e",
   "metadata": {},
   "outputs": [
    {
     "data": {
      "text/plain": [
       "276"
      ]
     },
     "execution_count": 7,
     "metadata": {},
     "output_type": "execute_result"
    }
   ],
   "source": [
    "len(kat_df.Personel.unique())"
   ]
  },
  {
   "cell_type": "code",
   "execution_count": 8,
   "id": "64e37577-169d-4d17-82bd-fca50399dd5d",
   "metadata": {},
   "outputs": [
    {
     "data": {
      "text/plain": [
       "Personel\n",
       "ARİF TARIM         3058\n",
       "ELMAS URAK         2140\n",
       "MEHMET AKA         1714\n",
       "UMUT DEMİR         1520\n",
       "KEMAL DEMİR        1483\n",
       "                   ... \n",
       "HAYRİ GÜLER           1\n",
       "ÖZER ISIK             1\n",
       "ERDİNÇ GÜLSEVEN       1\n",
       "FIRAT ŞAHİN           1\n",
       "ÇAĞRI SİNEMLER        1\n",
       "Name: count, Length: 275, dtype: int64"
      ]
     },
     "execution_count": 8,
     "metadata": {},
     "output_type": "execute_result"
    }
   ],
   "source": [
    "kat_df[\"Personel\"].value_counts()"
   ]
  },
  {
   "cell_type": "code",
   "execution_count": 9,
   "id": "4a4ad944-6cef-4523-9d42-8b4625797a63",
   "metadata": {},
   "outputs": [
    {
     "data": {
      "text/plain": [
       "Arıza Grup 1\n",
       "(04) ARIZA    23619\n",
       "Name: count, dtype: int64"
      ]
     },
     "execution_count": 9,
     "metadata": {},
     "output_type": "execute_result"
    }
   ],
   "source": [
    "kat_df[\"Arıza Grup 1\"].value_counts()"
   ]
  },
  {
   "cell_type": "code",
   "execution_count": 10,
   "id": "74b5fc0f-abed-4d56-9018-27a73458c262",
   "metadata": {},
   "outputs": [
    {
     "data": {
      "text/plain": [
       "Arıza Grup 2\n",
       "(4.7) BAKIMCI BEKLEME            8014\n",
       "(4.2) MEKANIK ARIZA              5521\n",
       "(4.1) ELEKTRIK ARIZA             4450\n",
       "(4.10) BAKIM MALZEME BEKLEME     3950\n",
       "(4.5) SOGUTMA                     525\n",
       "(4.8) GENEL KOMPRESÖR ARIZASI     471\n",
       "(4.3) HIDROLIK ARIZA              407\n",
       "(4.4) PNOMATIK ARIZA              176\n",
       "(4.6) OPERATÖR                     75\n",
       "(4.9) TEZGAH REVİZYON              30\n",
       "Name: count, dtype: int64"
      ]
     },
     "execution_count": 10,
     "metadata": {},
     "output_type": "execute_result"
    }
   ],
   "source": [
    "kat_df[\"Arıza Grup 2\"].value_counts()"
   ]
  },
  {
   "cell_type": "code",
   "execution_count": 11,
   "id": "fc057525-3739-4a74-8b78-4c2178bd63ed",
   "metadata": {},
   "outputs": [
    {
     "data": {
      "text/plain": [
       "Arıza Grup 3\n",
       "(4.10.1) TEZGAHA PARÇA BEKLENİYOR           3950\n",
       "(4.1.2) ELEKTRONIK KART                     2050\n",
       "(4.1.4) SWITCH, SENSOR, PROB                1526\n",
       "(4.2.7) MAGAZIN, ATC                        1070\n",
       "(4.2.12) MUHTELIF MEKANIK                   1066\n",
       "(4.2.5) TABLA, PALET                         730\n",
       "(4.2.2) KAPI, SAC, COVER                     603\n",
       "(4.2.10) YAGLAMA                             547\n",
       "(4.5.2) BORYAG                               473\n",
       "(4.2.4) SPINDLE                              363\n",
       "(4.2.6) TURRET                               338\n",
       "(4.2.3) KAYIS, KAPLIN, REDÜKTÖR, KASNAK      335\n",
       "(4.1.9) MUHTELIF ELEKTRIK                    329\n",
       "(4.1.6) MOTOR                                244\n",
       "(4.2.8) VIDALI MIL                           208\n",
       "(4.3.2) POMPA, O-RING, KEÇE, CONTA           133\n",
       "(4.2.1) RULMAN                               107\n",
       "(4.1.1) ELEKTRIK KOMPONENT, KABLO            104\n",
       "(4.3.5) YAG EKSIKLIGI                         97\n",
       "(4.1.5) CETVEL, ENCODER                       83\n",
       "(4.2.9) KIZAK                                 78\n",
       "(4.3.3) HORTUM                                76\n",
       "(4.2.11) KONVEYÖR                             76\n",
       "(4.4.5) MUHTELIF PNOMATIK                     66\n",
       "(4.1.7) PARAMETRE, INITIALIZE                 54\n",
       "(4.4.4) PNÖMATIK MALZEME                      53\n",
       "(4.3.7) DIGER                                 41\n",
       "(4.5.4) MUHTELIF                              35\n",
       "(4.4.1) VALF                                  34\n",
       "(4.1.10) ELEKTRİK KESİNTİSİ/DALGALANMASI      33\n",
       "(4.3.1) VALF                                  30\n",
       "(4.3.6) MUHTELIF HIDROLIK MALZEME             26\n",
       "(4.6.15) APARAT,FİXTUR                        25\n",
       "(4.6.10) PARAMETRE,KUMANDA,PROGRAM            25\n",
       "(4.4.2) HORTUM                                23\n",
       "(4.1.3) FAN                                   19\n",
       "(4.6.11) DİĞER                                11\n",
       "(4.5.3) FILTRE                                 9\n",
       "(4.5.1) KLIMA                                  8\n",
       "(4.1.8) ELK. PANO IÇI ASIRI SICAKLIGI          8\n",
       "(4.6.6) KAPI,SAC,COVER                         7\n",
       "(4.3.4) FILTRE                                 4\n",
       "(4.6.5) KONVEYÖR,HELEZON                       3\n",
       "(4.6.12) ÖLÇÜM                                 2\n",
       "(4.6.16) TAKIM                                 1\n",
       "(4.6.13) TEZGAH ÇARPMA                         1\n",
       "Name: count, dtype: int64"
      ]
     },
     "execution_count": 11,
     "metadata": {},
     "output_type": "execute_result"
    }
   ],
   "source": [
    "kat_df[\"Arıza Grup 3\"].value_counts()"
   ]
  },
  {
   "cell_type": "code",
   "execution_count": 12,
   "id": "6791021c-eba8-40a1-8fe2-172ebd1bbe8a",
   "metadata": {},
   "outputs": [
    {
     "name": "stdout",
     "output_type": "stream",
     "text": [
      "Personel\n",
      "ARİF TARIM         3058\n",
      "ELMAS URAK         2140\n",
      "MEHMET AKA         1714\n",
      "UMUT DEMİR         1520\n",
      "KEMAL DEMİR        1483\n",
      "                   ... \n",
      "HAYRİ GÜLER           1\n",
      "ÖZER ISIK             1\n",
      "ERDİNÇ GÜLSEVEN       1\n",
      "FIRAT ŞAHİN           1\n",
      "ÇAĞRI SİNEMLER        1\n",
      "Name: count, Length: 275, dtype: int64\n",
      "-------------------------------\n",
      "En çok arıza yapan personeller:\n",
      "ARİF TARIM: 3058 arıza\n",
      "-------------------------------\n",
      "En az arıza yapan personeller:\n",
      "CÜNEYT GÖKÇEK: 1 arıza\n",
      "MÜSLÜM GENÇOGLU: 1 arıza\n",
      "HAYRİ GÜLER: 1 arıza\n",
      "ÖZER ISIK: 1 arıza\n",
      "ERDİNÇ GÜLSEVEN: 1 arıza\n",
      "FIRAT ŞAHİN: 1 arıza\n",
      "ÇAĞRI SİNEMLER: 1 arıza\n"
     ]
    }
   ],
   "source": [
    "personel_ariza_sayilari = df['Personel'].value_counts()\n",
    "print(personel_ariza_sayilari)\n",
    "print(\"-------------------------------\")\n",
    "# # En çok arıza yapan personeli bulma\n",
    "# en_cok_ariza_yapan_personel = personel_ariza_sayilari.idxmax()\n",
    "# en_cok_ariza_sayisi = personel_ariza_sayilari.max()\n",
    "# en_az_ariza_yapan_personel = personel_ariza_sayilari.idxmin()\n",
    "# en_az_ariza_sayisi = personel_ariza_sayilari.min()\n",
    "\n",
    "# Personel'e göre gruplama ve arıza sayılarını hesaplama\n",
    "personel_ariza_sayilari = df['Personel'].value_counts()\n",
    "\n",
    "# En yüksek arıza sayısını bulma\n",
    "en_yuksek_ariza_sayisi = personel_ariza_sayilari.max()\n",
    "\n",
    "# En yüksek arıza sayısına sahip tüm personelleri bulma\n",
    "en_cok_ariza_yapan_personeller = personel_ariza_sayilari[personel_ariza_sayilari == en_yuksek_ariza_sayisi]\n",
    "\n",
    "print(\"En çok arıza yapan personeller:\")\n",
    "for personel, ariza_sayisi in en_cok_ariza_yapan_personeller.items():\n",
    "    print(f\"{personel}: {ariza_sayisi} arıza\")\n",
    "\n",
    "# En az arıza sayısını bulma\n",
    "en_az_ariza_sayisi = personel_ariza_sayilari.min()\n",
    "\n",
    "# En az arıza sayısına sahip tüm personelleri bulma\n",
    "en_az_ariza_yapan_personeller = personel_ariza_sayilari[personel_ariza_sayilari == en_az_ariza_sayisi]\n",
    "\n",
    "print(\"-------------------------------\\nEn az arıza yapan personeller:\")\n",
    "for personel, ariza_sayisi in en_az_ariza_yapan_personeller.items():\n",
    "    print(f\"{personel}: {ariza_sayisi} arıza\")\n"
   ]
  },
  {
   "cell_type": "code",
   "execution_count": 13,
   "id": "844f076e-96e0-462e-85fb-b5e7e1658fc8",
   "metadata": {},
   "outputs": [],
   "source": [
    "# import pandas as pd\n",
    "# import matplotlib.pyplot as plt\n",
    "\n",
    "# # Personel'e göre gruplama ve arıza gruplarının toplam çalışma sürelerini hesaplama\n",
    "# grouped = df.groupby(['Personel', 'Arıza Grup 1'])['Çalışma Süresi(Dk) Toplam'].sum().reset_index()\n",
    "\n",
    "# grouped\n",
    "# # Grafiği çizme\n",
    "# # fig, ax = plt.subplots(figsize=(10, 6))\n",
    "\n",
    "# # for personel in grouped['Personel'].unique():\n",
    "# #     personel_data = grouped[grouped['Personel'] == personel]\n",
    "# #     ax.bar(personel_data['Arıza Grup 1'], personel_data['Çalışma Süresi(Dk) Toplam'], label=personel)\n",
    "\n",
    "# # ax.set_xlabel('Arıza Grupları')\n",
    "# # ax.set_ylabel('Toplam Çalışma Süresi (Dakika)')\n",
    "# # ax.set_title('Personellere Göre Arıza Grupları ve Çalışma Süreleri')\n",
    "# # ax.legend()\n",
    "# # plt.xticks(rotation=45)\n",
    "# # plt.tight_layout()\n",
    "\n",
    "# # plt.show()"
   ]
  },
  {
   "cell_type": "code",
   "execution_count": 14,
   "id": "8b5904a8-06da-47d3-bb6f-a267d4da4d7f",
   "metadata": {},
   "outputs": [
    {
     "name": "stdout",
     "output_type": "stream",
     "text": [
      "En çok arıza yapan personellerin grupları:\n",
      "Personel    Arıza Grup 2                 \n",
      "ARİF TARIM  (4.1) ELEKTRIK ARIZA              838\n",
      "            (4.10) BAKIM MALZEME BEKLEME      959\n",
      "            (4.2) MEKANIK ARIZA              1057\n",
      "            (4.3) HIDROLIK ARIZA               57\n",
      "            (4.4) PNOMATIK ARIZA               21\n",
      "            (4.5) SOGUTMA                      69\n",
      "            (4.6) OPERATÖR                     31\n",
      "            (4.7) BAKIMCI BEKLEME              15\n",
      "            (4.8) GENEL KOMPRESÖR ARIZASI       3\n",
      "            (4.9) TEZGAH REVİZYON               8\n",
      "dtype: int64\n",
      "\n",
      "En az arıza yapan personellerin grupları:\n",
      "Personel         Arıza Grup 2         \n",
      "CÜNEYT GÖKÇEK    (4.7) BAKIMCI BEKLEME    1\n",
      "MÜSLÜM GENÇOGLU  (4.1) ELEKTRIK ARIZA     1\n",
      "HAYRİ GÜLER      (4.7) BAKIMCI BEKLEME    1\n",
      "ÖZER ISIK        (4.7) BAKIMCI BEKLEME    1\n",
      "ERDİNÇ GÜLSEVEN  (4.7) BAKIMCI BEKLEME    1\n",
      "FIRAT ŞAHİN      (4.5) SOGUTMA            1\n",
      "ÇAĞRI SİNEMLER   (4.7) BAKIMCI BEKLEME    1\n",
      "dtype: int64\n"
     ]
    }
   ],
   "source": [
    "\n",
    "# Personel ve Arıza Gruplarına göre gruplama ve arıza sayılarını hesaplama\n",
    "personel_ariza_gruplari = df.groupby(['Personel', 'Arıza Grup 2']).size()\n",
    "\n",
    "# En çok ve en az arıza yapan personellerin grupları\n",
    "en_cok_ariza_yapan_gruplar = personel_ariza_gruplari.loc[en_cok_ariza_yapan_personeller.index]\n",
    "en_az_ariza_yapan_gruplar = personel_ariza_gruplari.loc[en_az_ariza_yapan_personeller.index]\n",
    "\n",
    "print(\"En çok arıza yapan personellerin grupları:\")\n",
    "print(en_cok_ariza_yapan_gruplar)\n",
    "\n",
    "print(\"\\nEn az arıza yapan personellerin grupları:\")\n",
    "print(en_az_ariza_yapan_gruplar)\n"
   ]
  },
  {
   "cell_type": "code",
   "execution_count": 15,
   "id": "7d611694-3721-4205-be88-93c5b86bb60b",
   "metadata": {},
   "outputs": [
    {
     "data": {
      "image/png": "[encoded data removed]",
      "text/plain": [
       "<Figure size 1200x600 with 1 Axes>"
      ]
     },
     "metadata": {},
     "output_type": "display_data"
    },
    {
     "name": "stdout",
     "output_type": "stream",
     "text": [
      "-----------------------------------------------------------------------------------------------------------------------------------------------------\n"
     ]
    },
    {
     "data": {
      "image/png": "[encoded data removed]",
      "text/plain": [
       "<Figure size 1200x600 with 1 Axes>"
      ]
     },
     "metadata": {},
     "output_type": "display_data"
    }
   ],
   "source": [
    "import matplotlib.pyplot as plt\n",
    "\n",
    "# En çok arıza yapan personellerin gruplarının grafiği\n",
    "plt.figure(figsize=(12, 6))\n",
    "en_cok_ariza_yapan_gruplar.plot(kind='bar', color='blue')\n",
    "plt.title(\"En Çok Arıza Yapan Personellerin Arıza Grupları\")\n",
    "plt.xlabel(\"Personel ve Arıza Grupları\")\n",
    "plt.ylabel(\"Arıza Sayısı\")\n",
    "plt.xticks(rotation=45)\n",
    "plt.xticks(range(len(en_cok_ariza_yapan_gruplar)), en_cok_ariza_yapan_gruplar.index, fontsize=7)\n",
    "plt.tight_layout()\n",
    "plt.show()\n",
    "print(\"-----------------------------------------------------------------------------------------------------------------------------------------------------\")\n",
    "# En az arıza yapan personellerin gruplarının grafiği\n",
    "plt.figure(figsize=(12, 6))\n",
    "en_az_ariza_yapan_gruplar.plot(kind='bar', color='red')\n",
    "plt.title(\"En Az Arıza Yapan Personellerin Arıza Grupları\")\n",
    "plt.xlabel(\"Personel ve Arıza Grupları\")\n",
    "plt.ylabel(\"Arıza Sayısı\")\n",
    "plt.xticks(rotation=45)\n",
    "plt.xticks(range(len(en_az_ariza_yapan_gruplar)), en_az_ariza_yapan_gruplar.index, fontsize=7)\n",
    "plt.tight_layout()\n",
    "plt.show()\n"
   ]
  },
  {
   "cell_type": "code",
   "execution_count": 18,
   "id": "2a994631-2568-44b6-a66f-d245659e9d5a",
   "metadata": {},
   "outputs": [
    {
     "data": {
      "text/plain": [
       "234"
      ]
     },
     "execution_count": 18,
     "metadata": {},
     "output_type": "execute_result"
    }
   ],
   "source": [
    "df[\"Makina Adı\"].value_counts().count()"
   ]
  },
  {
   "cell_type": "code",
   "execution_count": 22,
   "id": "bbac07fc-c11d-4908-8bbf-78a0ab0e60ce",
   "metadata": {},
   "outputs": [
    {
     "ename": "TypeError",
     "evalue": "'Series' object is not callable",
     "output_type": "error",
     "traceback": [
      "\u001b[1;31m---------------------------------------------------------------------------\u001b[0m",
      "\u001b[1;31mTypeError\u001b[0m                                 Traceback (most recent call last)",
      "Cell \u001b[1;32mIn[22], line 1\u001b[0m\n\u001b[1;32m----> 1\u001b[0m df[\u001b[38;5;124m'\u001b[39m\u001b[38;5;124mTezgah Kodu\u001b[39m\u001b[38;5;124m'\u001b[39m] \u001b[38;5;241m=\u001b[39m \u001b[43mdf\u001b[49m\u001b[43m[\u001b[49m\u001b[38;5;124;43m'\u001b[39;49m\u001b[38;5;124;43mMakina Adı\u001b[39;49m\u001b[38;5;124;43m'\u001b[39;49m\u001b[43m]\u001b[49m\u001b[38;5;241;43m.\u001b[39;49m\u001b[43mstr\u001b[49m\u001b[38;5;241;43m.\u001b[39;49m\u001b[43msplit\u001b[49m\u001b[43m(\u001b[49m\u001b[38;5;124;43m'\u001b[39;49m\u001b[38;5;124;43m \u001b[39;49m\u001b[38;5;124;43m'\u001b[39;49m\u001b[43m)\u001b[49m\u001b[43m(\u001b[49m\u001b[38;5;241;43m0\u001b[39;49m\u001b[43m)\u001b[49m\n\u001b[0;32m      2\u001b[0m df\n",
      "\u001b[1;31mTypeError\u001b[0m: 'Series' object is not callable"
     ]
    }
   ],
   "source": [
    "df['Tezgah Kodu'] = df['Makina Adı'].str.split(' ')str[0]\n",
    "df"
   ]
  },
  {
   "cell_type": "code",
   "execution_count": null,
   "id": "731b4adc-dfcd-4956-9c9c-64a3f209280a",
   "metadata": {},
   "outputs": [],
   "source": []
  }
 ],
 "metadata": {
  "kernelspec": {
   "display_name": "Python 3 (ipykernel)",
   "language": "python",
   "name": "python3"
  },
  "language_info": {
   "codemirror_mode": {
    "name": "ipython",
    "version": 3
   },
   "file_extension": ".py",
   "mimetype": "text/x-python",
   "name": "python",
   "nbconvert_exporter": "python",
   "pygments_lexer": "ipython3",
   "version": "3.8.6"
  }
 },
 "nbformat": 4,
 "nbformat_minor": 5
}
